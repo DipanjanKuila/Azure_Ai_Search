{
 "cells": [
  {
   "cell_type": "markdown",
   "metadata": {},
   "source": [
    "## Import the library."
   ]
  },
  {
   "cell_type": "code",
   "execution_count": 19,
   "metadata": {},
   "outputs": [],
   "source": [
    "import os\n",
    "from langchain.document_loaders import DirectoryLoader, TextLoader\n",
    "from langchain.text_splitter import TokenTextSplitter\n",
    "from langchain_community.vectorstores.azuresearch import AzureSearch\n",
    "from langchain_community.retrievers import AzureAISearchRetriever\n",
    "from langchain_openai import AzureOpenAIEmbeddings, OpenAIEmbeddings\n",
    "from langchain_community.document_loaders import TextLoader\n",
    "from langchain_text_splitters.character import CharacterTextSplitter\n",
    "from langchain.chains import RetrievalQA\n",
    "from langchain_openai import AzureChatOpenAI"
   ]
  },
  {
   "cell_type": "markdown",
   "metadata": {},
   "source": [
    "## API Details"
   ]
  },
  {
   "cell_type": "code",
   "execution_count": 21,
   "metadata": {},
   "outputs": [],
   "source": [
    "os.environ[\"AZURE_AI_SEARCH_SERVICE_NAME\"] = \"YOUR  Azure_Ai_Search CONNECTION STRING\"\n",
    "os.environ[\"AZURE_AI_SEARCH_INDEX_NAME\"] = \"rag_vector1\"\n",
    "os.environ[\"AZURE_AI_SEARCH_API_KEY\"] = \"Your Api Key\"\n",
    "os.environ[\"AZURE_OPENAI_API_KEY\"] = \"Your Azure openai  Api key\"\n",
    "os.environ[\"AZURE_OPENAI_ENDPOINT\"] = \"Your Azure openai endpoint\"\n",
    "os.environ[\"OPENAI_API_VERSION\"] = \"Your Api version\""
   ]
  },
  {
   "cell_type": "markdown",
   "metadata": {},
   "source": [
    "## Azure OpenAI Embeddings"
   ]
  },
  {
   "cell_type": "code",
   "execution_count": 22,
   "metadata": {},
   "outputs": [],
   "source": [
    "\n",
    "azure_endpoint = os.environ[\"AZURE_OPENAI_ENDPOINT\"]\n",
    "azure_openai_api_key = os.environ[\"AZURE_OPENAI_API_KEY\"]\n",
    "azure_openai_api_version = os.environ[\"OPENAI_API_VERSION\"]\n",
    "azure_deployment = \"Embedding-ada\""
   ]
  },
  {
   "cell_type": "code",
   "execution_count": 7,
   "metadata": {},
   "outputs": [],
   "source": [
    "embeddings = AzureOpenAIEmbeddings(\n",
    "    model=azure_deployment,\n",
    "    azure_endpoint=azure_endpoint,\n",
    "    openai_api_key=azure_openai_api_key,\n",
    ")"
   ]
  },
  {
   "cell_type": "markdown",
   "metadata": {},
   "source": [
    "## Createing Vector_store using same : AZURE_AI_SEARCH_INDEX_NAME"
   ]
  },
  {
   "cell_type": "code",
   "execution_count": 10,
   "metadata": {},
   "outputs": [
    {
     "name": "stderr",
     "output_type": "stream",
     "text": [
      "name is not a known attribute of class <class 'azure.search.documents.indexes.models._index.SearchField'> and will be ignored\n",
      "type is not a known attribute of class <class 'azure.search.documents.indexes.models._index.SearchField'> and will be ignored\n",
      "key is not a known attribute of class <class 'azure.search.documents.indexes.models._index.SearchField'> and will be ignored\n",
      "searchable is not a known attribute of class <class 'azure.search.documents.indexes.models._index.SearchField'> and will be ignored\n",
      "filterable is not a known attribute of class <class 'azure.search.documents.indexes.models._index.SearchField'> and will be ignored\n",
      "facetable is not a known attribute of class <class 'azure.search.documents.indexes.models._index.SearchField'> and will be ignored\n",
      "sortable is not a known attribute of class <class 'azure.search.documents.indexes.models._index.SearchField'> and will be ignored\n",
      "hidden is not a known attribute of class <class 'azure.search.documents.indexes.models._index.SearchField'> and will be ignored\n",
      "name is not a known attribute of class <class 'azure.search.documents.indexes.models._index.SearchField'> and will be ignored\n",
      "type is not a known attribute of class <class 'azure.search.documents.indexes.models._index.SearchField'> and will be ignored\n",
      "key is not a known attribute of class <class 'azure.search.documents.indexes.models._index.SearchField'> and will be ignored\n",
      "searchable is not a known attribute of class <class 'azure.search.documents.indexes.models._index.SearchField'> and will be ignored\n",
      "filterable is not a known attribute of class <class 'azure.search.documents.indexes.models._index.SearchField'> and will be ignored\n",
      "facetable is not a known attribute of class <class 'azure.search.documents.indexes.models._index.SearchField'> and will be ignored\n",
      "sortable is not a known attribute of class <class 'azure.search.documents.indexes.models._index.SearchField'> and will be ignored\n",
      "hidden is not a known attribute of class <class 'azure.search.documents.indexes.models._index.SearchField'> and will be ignored\n",
      "name is not a known attribute of class <class 'azure.search.documents.indexes.models._index.SearchField'> and will be ignored\n",
      "type is not a known attribute of class <class 'azure.search.documents.indexes.models._index.SearchField'> and will be ignored\n",
      "searchable is not a known attribute of class <class 'azure.search.documents.indexes.models._index.SearchField'> and will be ignored\n",
      "vector_search_dimensions is not a known attribute of class <class 'azure.search.documents.indexes.models._index.SearchField'> and will be ignored\n",
      "vector_search_profile_name is not a known attribute of class <class 'azure.search.documents.indexes.models._index.SearchField'> and will be ignored\n",
      "name is not a known attribute of class <class 'azure.search.documents.indexes.models._index.SearchField'> and will be ignored\n",
      "type is not a known attribute of class <class 'azure.search.documents.indexes.models._index.SearchField'> and will be ignored\n",
      "key is not a known attribute of class <class 'azure.search.documents.indexes.models._index.SearchField'> and will be ignored\n",
      "searchable is not a known attribute of class <class 'azure.search.documents.indexes.models._index.SearchField'> and will be ignored\n",
      "filterable is not a known attribute of class <class 'azure.search.documents.indexes.models._index.SearchField'> and will be ignored\n",
      "facetable is not a known attribute of class <class 'azure.search.documents.indexes.models._index.SearchField'> and will be ignored\n",
      "sortable is not a known attribute of class <class 'azure.search.documents.indexes.models._index.SearchField'> and will be ignored\n",
      "hidden is not a known attribute of class <class 'azure.search.documents.indexes.models._index.SearchField'> and will be ignored\n",
      "name is not a known attribute of class <class 'azure.search.documents.indexes.models._index.SearchField'> and will be ignored\n",
      "type is not a known attribute of class <class 'azure.search.documents.indexes.models._index.SearchField'> and will be ignored\n",
      "key is not a known attribute of class <class 'azure.search.documents.indexes.models._index.SearchField'> and will be ignored\n",
      "hidden is not a known attribute of class <class 'azure.search.documents.indexes.models._index.SearchField'> and will be ignored\n",
      "stored is not a known attribute of class <class 'azure.search.documents.indexes.models._index.SearchField'> and will be ignored\n",
      "searchable is not a known attribute of class <class 'azure.search.documents.indexes.models._index.SearchField'> and will be ignored\n",
      "filterable is not a known attribute of class <class 'azure.search.documents.indexes.models._index.SearchField'> and will be ignored\n",
      "sortable is not a known attribute of class <class 'azure.search.documents.indexes.models._index.SearchField'> and will be ignored\n",
      "facetable is not a known attribute of class <class 'azure.search.documents.indexes.models._index.SearchField'> and will be ignored\n",
      "analyzer_name is not a known attribute of class <class 'azure.search.documents.indexes.models._index.SearchField'> and will be ignored\n",
      "search_analyzer_name is not a known attribute of class <class 'azure.search.documents.indexes.models._index.SearchField'> and will be ignored\n",
      "index_analyzer_name is not a known attribute of class <class 'azure.search.documents.indexes.models._index.SearchField'> and will be ignored\n",
      "synonym_map_names is not a known attribute of class <class 'azure.search.documents.indexes.models._index.SearchField'> and will be ignored\n",
      "fields is not a known attribute of class <class 'azure.search.documents.indexes.models._index.SearchField'> and will be ignored\n",
      "vector_search_dimensions is not a known attribute of class <class 'azure.search.documents.indexes.models._index.SearchField'> and will be ignored\n",
      "vector_search_profile_name is not a known attribute of class <class 'azure.search.documents.indexes.models._index.SearchField'> and will be ignored\n",
      "vector_encoding_format is not a known attribute of class <class 'azure.search.documents.indexes.models._index.SearchField'> and will be ignored\n",
      "name is not a known attribute of class <class 'azure.search.documents.indexes.models._index.SearchField'> and will be ignored\n",
      "type is not a known attribute of class <class 'azure.search.documents.indexes.models._index.SearchField'> and will be ignored\n",
      "key is not a known attribute of class <class 'azure.search.documents.indexes.models._index.SearchField'> and will be ignored\n",
      "hidden is not a known attribute of class <class 'azure.search.documents.indexes.models._index.SearchField'> and will be ignored\n",
      "stored is not a known attribute of class <class 'azure.search.documents.indexes.models._index.SearchField'> and will be ignored\n",
      "searchable is not a known attribute of class <class 'azure.search.documents.indexes.models._index.SearchField'> and will be ignored\n",
      "filterable is not a known attribute of class <class 'azure.search.documents.indexes.models._index.SearchField'> and will be ignored\n",
      "sortable is not a known attribute of class <class 'azure.search.documents.indexes.models._index.SearchField'> and will be ignored\n",
      "facetable is not a known attribute of class <class 'azure.search.documents.indexes.models._index.SearchField'> and will be ignored\n",
      "analyzer_name is not a known attribute of class <class 'azure.search.documents.indexes.models._index.SearchField'> and will be ignored\n",
      "search_analyzer_name is not a known attribute of class <class 'azure.search.documents.indexes.models._index.SearchField'> and will be ignored\n",
      "index_analyzer_name is not a known attribute of class <class 'azure.search.documents.indexes.models._index.SearchField'> and will be ignored\n",
      "synonym_map_names is not a known attribute of class <class 'azure.search.documents.indexes.models._index.SearchField'> and will be ignored\n",
      "fields is not a known attribute of class <class 'azure.search.documents.indexes.models._index.SearchField'> and will be ignored\n",
      "vector_search_dimensions is not a known attribute of class <class 'azure.search.documents.indexes.models._index.SearchField'> and will be ignored\n",
      "vector_search_profile_name is not a known attribute of class <class 'azure.search.documents.indexes.models._index.SearchField'> and will be ignored\n",
      "vector_encoding_format is not a known attribute of class <class 'azure.search.documents.indexes.models._index.SearchField'> and will be ignored\n",
      "name is not a known attribute of class <class 'azure.search.documents.indexes.models._index.SearchField'> and will be ignored\n",
      "type is not a known attribute of class <class 'azure.search.documents.indexes.models._index.SearchField'> and will be ignored\n",
      "key is not a known attribute of class <class 'azure.search.documents.indexes.models._index.SearchField'> and will be ignored\n",
      "hidden is not a known attribute of class <class 'azure.search.documents.indexes.models._index.SearchField'> and will be ignored\n",
      "stored is not a known attribute of class <class 'azure.search.documents.indexes.models._index.SearchField'> and will be ignored\n",
      "searchable is not a known attribute of class <class 'azure.search.documents.indexes.models._index.SearchField'> and will be ignored\n",
      "filterable is not a known attribute of class <class 'azure.search.documents.indexes.models._index.SearchField'> and will be ignored\n",
      "sortable is not a known attribute of class <class 'azure.search.documents.indexes.models._index.SearchField'> and will be ignored\n",
      "facetable is not a known attribute of class <class 'azure.search.documents.indexes.models._index.SearchField'> and will be ignored\n",
      "analyzer_name is not a known attribute of class <class 'azure.search.documents.indexes.models._index.SearchField'> and will be ignored\n",
      "search_analyzer_name is not a known attribute of class <class 'azure.search.documents.indexes.models._index.SearchField'> and will be ignored\n",
      "index_analyzer_name is not a known attribute of class <class 'azure.search.documents.indexes.models._index.SearchField'> and will be ignored\n",
      "synonym_map_names is not a known attribute of class <class 'azure.search.documents.indexes.models._index.SearchField'> and will be ignored\n",
      "fields is not a known attribute of class <class 'azure.search.documents.indexes.models._index.SearchField'> and will be ignored\n",
      "vector_search_dimensions is not a known attribute of class <class 'azure.search.documents.indexes.models._index.SearchField'> and will be ignored\n",
      "vector_search_profile_name is not a known attribute of class <class 'azure.search.documents.indexes.models._index.SearchField'> and will be ignored\n",
      "vector_encoding_format is not a known attribute of class <class 'azure.search.documents.indexes.models._index.SearchField'> and will be ignored\n",
      "name is not a known attribute of class <class 'azure.search.documents.indexes.models._index.SearchField'> and will be ignored\n",
      "type is not a known attribute of class <class 'azure.search.documents.indexes.models._index.SearchField'> and will be ignored\n",
      "key is not a known attribute of class <class 'azure.search.documents.indexes.models._index.SearchField'> and will be ignored\n",
      "hidden is not a known attribute of class <class 'azure.search.documents.indexes.models._index.SearchField'> and will be ignored\n",
      "stored is not a known attribute of class <class 'azure.search.documents.indexes.models._index.SearchField'> and will be ignored\n",
      "searchable is not a known attribute of class <class 'azure.search.documents.indexes.models._index.SearchField'> and will be ignored\n",
      "filterable is not a known attribute of class <class 'azure.search.documents.indexes.models._index.SearchField'> and will be ignored\n",
      "sortable is not a known attribute of class <class 'azure.search.documents.indexes.models._index.SearchField'> and will be ignored\n",
      "facetable is not a known attribute of class <class 'azure.search.documents.indexes.models._index.SearchField'> and will be ignored\n",
      "analyzer_name is not a known attribute of class <class 'azure.search.documents.indexes.models._index.SearchField'> and will be ignored\n",
      "search_analyzer_name is not a known attribute of class <class 'azure.search.documents.indexes.models._index.SearchField'> and will be ignored\n",
      "index_analyzer_name is not a known attribute of class <class 'azure.search.documents.indexes.models._index.SearchField'> and will be ignored\n",
      "synonym_map_names is not a known attribute of class <class 'azure.search.documents.indexes.models._index.SearchField'> and will be ignored\n",
      "fields is not a known attribute of class <class 'azure.search.documents.indexes.models._index.SearchField'> and will be ignored\n",
      "vector_search_dimensions is not a known attribute of class <class 'azure.search.documents.indexes.models._index.SearchField'> and will be ignored\n",
      "vector_search_profile_name is not a known attribute of class <class 'azure.search.documents.indexes.models._index.SearchField'> and will be ignored\n",
      "vector_encoding_format is not a known attribute of class <class 'azure.search.documents.indexes.models._index.SearchField'> and will be ignored\n",
      "name is not a known attribute of class <class 'azure.search.documents.indexes.models._index.SearchIndex'> and will be ignored\n",
      "fields is not a known attribute of class <class 'azure.search.documents.indexes.models._index.SearchIndex'> and will be ignored\n",
      "scoring_profiles is not a known attribute of class <class 'azure.search.documents.indexes.models._index.SearchIndex'> and will be ignored\n",
      "default_scoring_profile is not a known attribute of class <class 'azure.search.documents.indexes.models._index.SearchIndex'> and will be ignored\n",
      "cors_options is not a known attribute of class <class 'azure.search.documents.indexes.models._index.SearchIndex'> and will be ignored\n",
      "suggesters is not a known attribute of class <class 'azure.search.documents.indexes.models._index.SearchIndex'> and will be ignored\n",
      "analyzers is not a known attribute of class <class 'azure.search.documents.indexes.models._index.SearchIndex'> and will be ignored\n",
      "tokenizers is not a known attribute of class <class 'azure.search.documents.indexes.models._index.SearchIndex'> and will be ignored\n",
      "token_filters is not a known attribute of class <class 'azure.search.documents.indexes.models._index.SearchIndex'> and will be ignored\n",
      "char_filters is not a known attribute of class <class 'azure.search.documents.indexes.models._index.SearchIndex'> and will be ignored\n",
      "encryption_key is not a known attribute of class <class 'azure.search.documents.indexes.models._index.SearchIndex'> and will be ignored\n",
      "similarity is not a known attribute of class <class 'azure.search.documents.indexes.models._index.SearchIndex'> and will be ignored\n",
      "semantic_search is not a known attribute of class <class 'azure.search.documents.indexes.models._index.SearchIndex'> and will be ignored\n",
      "e_tag is not a known attribute of class <class 'azure.search.documents.indexes.models._index.SearchIndex'> and will be ignored\n",
      "vector_search is not a known attribute of class <class 'azure.search.documents.indexes.models._index.SearchIndex'> and will be ignored\n",
      "name is not a known attribute of class <class 'azure.search.documents.indexes.models._index.SearchField'> and will be ignored\n",
      "type is not a known attribute of class <class 'azure.search.documents.indexes.models._index.SearchField'> and will be ignored\n",
      "key is not a known attribute of class <class 'azure.search.documents.indexes.models._index.SearchField'> and will be ignored\n",
      "hidden is not a known attribute of class <class 'azure.search.documents.indexes.models._index.SearchField'> and will be ignored\n",
      "stored is not a known attribute of class <class 'azure.search.documents.indexes.models._index.SearchField'> and will be ignored\n",
      "searchable is not a known attribute of class <class 'azure.search.documents.indexes.models._index.SearchField'> and will be ignored\n",
      "filterable is not a known attribute of class <class 'azure.search.documents.indexes.models._index.SearchField'> and will be ignored\n",
      "sortable is not a known attribute of class <class 'azure.search.documents.indexes.models._index.SearchField'> and will be ignored\n",
      "facetable is not a known attribute of class <class 'azure.search.documents.indexes.models._index.SearchField'> and will be ignored\n",
      "analyzer_name is not a known attribute of class <class 'azure.search.documents.indexes.models._index.SearchField'> and will be ignored\n",
      "search_analyzer_name is not a known attribute of class <class 'azure.search.documents.indexes.models._index.SearchField'> and will be ignored\n",
      "index_analyzer_name is not a known attribute of class <class 'azure.search.documents.indexes.models._index.SearchField'> and will be ignored\n",
      "synonym_map_names is not a known attribute of class <class 'azure.search.documents.indexes.models._index.SearchField'> and will be ignored\n",
      "fields is not a known attribute of class <class 'azure.search.documents.indexes.models._index.SearchField'> and will be ignored\n",
      "vector_search_dimensions is not a known attribute of class <class 'azure.search.documents.indexes.models._index.SearchField'> and will be ignored\n",
      "vector_search_profile_name is not a known attribute of class <class 'azure.search.documents.indexes.models._index.SearchField'> and will be ignored\n",
      "vector_encoding_format is not a known attribute of class <class 'azure.search.documents.indexes.models._index.SearchField'> and will be ignored\n",
      "name is not a known attribute of class <class 'azure.search.documents.indexes.models._index.SearchField'> and will be ignored\n",
      "type is not a known attribute of class <class 'azure.search.documents.indexes.models._index.SearchField'> and will be ignored\n",
      "key is not a known attribute of class <class 'azure.search.documents.indexes.models._index.SearchField'> and will be ignored\n",
      "hidden is not a known attribute of class <class 'azure.search.documents.indexes.models._index.SearchField'> and will be ignored\n",
      "stored is not a known attribute of class <class 'azure.search.documents.indexes.models._index.SearchField'> and will be ignored\n",
      "searchable is not a known attribute of class <class 'azure.search.documents.indexes.models._index.SearchField'> and will be ignored\n",
      "filterable is not a known attribute of class <class 'azure.search.documents.indexes.models._index.SearchField'> and will be ignored\n",
      "sortable is not a known attribute of class <class 'azure.search.documents.indexes.models._index.SearchField'> and will be ignored\n",
      "facetable is not a known attribute of class <class 'azure.search.documents.indexes.models._index.SearchField'> and will be ignored\n",
      "analyzer_name is not a known attribute of class <class 'azure.search.documents.indexes.models._index.SearchField'> and will be ignored\n",
      "search_analyzer_name is not a known attribute of class <class 'azure.search.documents.indexes.models._index.SearchField'> and will be ignored\n",
      "index_analyzer_name is not a known attribute of class <class 'azure.search.documents.indexes.models._index.SearchField'> and will be ignored\n",
      "synonym_map_names is not a known attribute of class <class 'azure.search.documents.indexes.models._index.SearchField'> and will be ignored\n",
      "fields is not a known attribute of class <class 'azure.search.documents.indexes.models._index.SearchField'> and will be ignored\n",
      "vector_search_dimensions is not a known attribute of class <class 'azure.search.documents.indexes.models._index.SearchField'> and will be ignored\n",
      "vector_search_profile_name is not a known attribute of class <class 'azure.search.documents.indexes.models._index.SearchField'> and will be ignored\n",
      "vector_encoding_format is not a known attribute of class <class 'azure.search.documents.indexes.models._index.SearchField'> and will be ignored\n",
      "name is not a known attribute of class <class 'azure.search.documents.indexes.models._index.SearchField'> and will be ignored\n",
      "type is not a known attribute of class <class 'azure.search.documents.indexes.models._index.SearchField'> and will be ignored\n",
      "key is not a known attribute of class <class 'azure.search.documents.indexes.models._index.SearchField'> and will be ignored\n",
      "hidden is not a known attribute of class <class 'azure.search.documents.indexes.models._index.SearchField'> and will be ignored\n",
      "stored is not a known attribute of class <class 'azure.search.documents.indexes.models._index.SearchField'> and will be ignored\n",
      "searchable is not a known attribute of class <class 'azure.search.documents.indexes.models._index.SearchField'> and will be ignored\n",
      "filterable is not a known attribute of class <class 'azure.search.documents.indexes.models._index.SearchField'> and will be ignored\n",
      "sortable is not a known attribute of class <class 'azure.search.documents.indexes.models._index.SearchField'> and will be ignored\n",
      "facetable is not a known attribute of class <class 'azure.search.documents.indexes.models._index.SearchField'> and will be ignored\n",
      "analyzer_name is not a known attribute of class <class 'azure.search.documents.indexes.models._index.SearchField'> and will be ignored\n",
      "search_analyzer_name is not a known attribute of class <class 'azure.search.documents.indexes.models._index.SearchField'> and will be ignored\n",
      "index_analyzer_name is not a known attribute of class <class 'azure.search.documents.indexes.models._index.SearchField'> and will be ignored\n",
      "synonym_map_names is not a known attribute of class <class 'azure.search.documents.indexes.models._index.SearchField'> and will be ignored\n",
      "fields is not a known attribute of class <class 'azure.search.documents.indexes.models._index.SearchField'> and will be ignored\n",
      "vector_search_dimensions is not a known attribute of class <class 'azure.search.documents.indexes.models._index.SearchField'> and will be ignored\n",
      "vector_search_profile_name is not a known attribute of class <class 'azure.search.documents.indexes.models._index.SearchField'> and will be ignored\n",
      "vector_encoding_format is not a known attribute of class <class 'azure.search.documents.indexes.models._index.SearchField'> and will be ignored\n",
      "name is not a known attribute of class <class 'azure.search.documents.indexes.models._index.SearchField'> and will be ignored\n",
      "type is not a known attribute of class <class 'azure.search.documents.indexes.models._index.SearchField'> and will be ignored\n",
      "key is not a known attribute of class <class 'azure.search.documents.indexes.models._index.SearchField'> and will be ignored\n",
      "hidden is not a known attribute of class <class 'azure.search.documents.indexes.models._index.SearchField'> and will be ignored\n",
      "stored is not a known attribute of class <class 'azure.search.documents.indexes.models._index.SearchField'> and will be ignored\n",
      "searchable is not a known attribute of class <class 'azure.search.documents.indexes.models._index.SearchField'> and will be ignored\n",
      "filterable is not a known attribute of class <class 'azure.search.documents.indexes.models._index.SearchField'> and will be ignored\n",
      "sortable is not a known attribute of class <class 'azure.search.documents.indexes.models._index.SearchField'> and will be ignored\n",
      "facetable is not a known attribute of class <class 'azure.search.documents.indexes.models._index.SearchField'> and will be ignored\n",
      "analyzer_name is not a known attribute of class <class 'azure.search.documents.indexes.models._index.SearchField'> and will be ignored\n",
      "search_analyzer_name is not a known attribute of class <class 'azure.search.documents.indexes.models._index.SearchField'> and will be ignored\n",
      "index_analyzer_name is not a known attribute of class <class 'azure.search.documents.indexes.models._index.SearchField'> and will be ignored\n",
      "synonym_map_names is not a known attribute of class <class 'azure.search.documents.indexes.models._index.SearchField'> and will be ignored\n",
      "fields is not a known attribute of class <class 'azure.search.documents.indexes.models._index.SearchField'> and will be ignored\n",
      "vector_search_dimensions is not a known attribute of class <class 'azure.search.documents.indexes.models._index.SearchField'> and will be ignored\n",
      "vector_search_profile_name is not a known attribute of class <class 'azure.search.documents.indexes.models._index.SearchField'> and will be ignored\n",
      "vector_encoding_format is not a known attribute of class <class 'azure.search.documents.indexes.models._index.SearchField'> and will be ignored\n",
      "name is not a known attribute of class <class 'azure.search.documents.indexes.models._index.SearchIndex'> and will be ignored\n",
      "fields is not a known attribute of class <class 'azure.search.documents.indexes.models._index.SearchIndex'> and will be ignored\n",
      "scoring_profiles is not a known attribute of class <class 'azure.search.documents.indexes.models._index.SearchIndex'> and will be ignored\n",
      "default_scoring_profile is not a known attribute of class <class 'azure.search.documents.indexes.models._index.SearchIndex'> and will be ignored\n",
      "cors_options is not a known attribute of class <class 'azure.search.documents.indexes.models._index.SearchIndex'> and will be ignored\n",
      "suggesters is not a known attribute of class <class 'azure.search.documents.indexes.models._index.SearchIndex'> and will be ignored\n",
      "analyzers is not a known attribute of class <class 'azure.search.documents.indexes.models._index.SearchIndex'> and will be ignored\n",
      "tokenizers is not a known attribute of class <class 'azure.search.documents.indexes.models._index.SearchIndex'> and will be ignored\n",
      "token_filters is not a known attribute of class <class 'azure.search.documents.indexes.models._index.SearchIndex'> and will be ignored\n",
      "char_filters is not a known attribute of class <class 'azure.search.documents.indexes.models._index.SearchIndex'> and will be ignored\n",
      "encryption_key is not a known attribute of class <class 'azure.search.documents.indexes.models._index.SearchIndex'> and will be ignored\n",
      "similarity is not a known attribute of class <class 'azure.search.documents.indexes.models._index.SearchIndex'> and will be ignored\n",
      "semantic_search is not a known attribute of class <class 'azure.search.documents.indexes.models._index.SearchIndex'> and will be ignored\n",
      "e_tag is not a known attribute of class <class 'azure.search.documents.indexes.models._index.SearchIndex'> and will be ignored\n",
      "vector_search is not a known attribute of class <class 'azure.search.documents.indexes.models._index.SearchIndex'> and will be ignored\n"
     ]
    }
   ],
   "source": [
    "vector_store: AzureSearch = AzureSearch(\n",
    "    embedding_function=embeddings.embed_query,\n",
    "    azure_search_endpoint=os.getenv(\"AZURE_AI_SEARCH_SERVICE_NAME\"),\n",
    "    azure_search_key=os.getenv(\"AZURE_AI_SEARCH_API_KEY\"),\n",
    "    index_name=\"rag_vector1\",\n",
    "    search_type=\"similarity\",)"
   ]
  },
  {
   "cell_type": "markdown",
   "metadata": {},
   "source": [
    "## Load and split documents"
   ]
  },
  {
   "cell_type": "code",
   "execution_count": 11,
   "metadata": {},
   "outputs": [],
   "source": [
    "\n",
    "loader = TextLoader(\"D:/Azure_ai_search/beautiful_long_story.txt\", encoding=\"utf-8\")\n",
    "documents = loader.load()\n",
    "text_splitter = CharacterTextSplitter(chunk_size=1000, chunk_overlap=0)\n",
    "docs = text_splitter.split_documents(documents)"
   ]
  },
  {
   "cell_type": "markdown",
   "metadata": {},
   "source": [
    "## Add documents to vector store"
   ]
  },
  {
   "cell_type": "code",
   "execution_count": 12,
   "metadata": {},
   "outputs": [
    {
     "data": {
      "text/plain": [
       "['ZDUwNjEwYzAtZWYwMS00ZDk3LWIyOTUtMDJhYzBhNWQxNTM2',\n",
       " 'NTg5NzA4YTYtYTEzNS00YzhkLTgzMTQtY2YxMTBiOWJmNmRj',\n",
       " 'NmYyY2M1NzctZDAwMC00ZGFmLWE4MDMtNmVhNjMzODhiYTIx',\n",
       " 'ZTU3ZWQyZGMtZDJmOS00NmJjLWI3YjEtNmI1NzFmZGY3NTYy',\n",
       " 'YmY0NWMxZmQtMzI4Yi00MjFiLTllY2ItM2UzYWI4N2NjMzBl',\n",
       " 'YTIyZjVmODEtMTIxYy00NDQ2LWI0YzItZTU4ODZhMjVlYjIw',\n",
       " 'OTExYzc4NDItZWJiMS00YzlmLWFiNmMtNDk0OWE4ZGJkMDEy']"
      ]
     },
     "execution_count": 12,
     "metadata": {},
     "output_type": "execute_result"
    }
   ],
   "source": [
    "\n",
    "vector_store.add_documents(documents=docs)"
   ]
  },
  {
   "cell_type": "markdown",
   "metadata": {},
   "source": [
    "## Perform a similarity search"
   ]
  },
  {
   "cell_type": "code",
   "execution_count": 14,
   "metadata": {},
   "outputs": [
    {
     "name": "stdout",
     "output_type": "stream",
     "text": [
      "Once upon a time in a land far beyond the known realms, nestled between towering mountains and an endless sea, there lay the enchanting Kingdom of Elmsworth. The kingdom was renowned for its lush green landscapes, sparkling rivers, and the grandeur of its ancient castles. Yet, what truly set Elmsworth apart was its rich tapestry of myths and legends, whispered through the generations.\n",
      "\n",
      "At the heart of Elmsworth stood the majestic Castle of Arion, where King Cedric, a wise and noble ruler, had reigned for over three decades. The king was beloved by his people for his fairness and his deep connection with the land. He was often seen wandering the forests, speaking with the animals, and tending to the ancient trees that had stood for centuries.\n"
     ]
    }
   ],
   "source": [
    "\n",
    "query = \"tell me about Elmsworth\"\n",
    "similar_docs = vector_store.similarity_search(\n",
    "    query=query,\n",
    "    k=3,\n",
    "    search_type=\"similarity\",\n",
    ")\n",
    "print(similar_docs[0].page_content)"
   ]
  },
  {
   "cell_type": "markdown",
   "metadata": {},
   "source": [
    "## Perform a hybrid search"
   ]
  },
  {
   "cell_type": "code",
   "execution_count": 15,
   "metadata": {},
   "outputs": [
    {
     "name": "stdout",
     "output_type": "stream",
     "text": [
      "Once upon a time in a land far beyond the known realms, nestled between towering mountains and an endless sea, there lay the enchanting Kingdom of Elmsworth. The kingdom was renowned for its lush green landscapes, sparkling rivers, and the grandeur of its ancient castles. Yet, what truly set Elmsworth apart was its rich tapestry of myths and legends, whispered through the generations.\n",
      "\n",
      "At the heart of Elmsworth stood the majestic Castle of Arion, where King Cedric, a wise and noble ruler, had reigned for over three decades. The king was beloved by his people for his fairness and his deep connection with the land. He was often seen wandering the forests, speaking with the animals, and tending to the ancient trees that had stood for centuries.\n"
     ]
    }
   ],
   "source": [
    "\n",
    "hybrid_docs = vector_store.similarity_search(\n",
    "    query=\"tell me about Elmsworth\",\n",
    "    k=3,\n",
    "    search_type=\"hybrid\",\n",
    ")\n",
    "print(hybrid_docs[0].page_content)"
   ]
  },
  {
   "cell_type": "markdown",
   "metadata": {},
   "source": [
    "## Using Retrieval QA"
   ]
  },
  {
   "cell_type": "code",
   "execution_count": 16,
   "metadata": {},
   "outputs": [],
   "source": [
    "\n",
    "GPT_DEPLOYMENT_NAME = \"gpt-4o\"\n",
    "llm = AzureChatOpenAI(\n",
    "    azure_endpoint=azure_endpoint,\n",
    "    openai_api_version=azure_openai_api_version,\n",
    "    azure_deployment=GPT_DEPLOYMENT_NAME,\n",
    ")\n",
    "\n",
    "retriever = vector_store.as_retriever()\n",
    "\n",
    "qa = RetrievalQA.from_chain_type(\n",
    "    llm=llm, chain_type=\"stuff\", retriever=retriever\n",
    ")"
   ]
  },
  {
   "cell_type": "markdown",
   "metadata": {},
   "source": [
    "## Query using QA chain"
   ]
  },
  {
   "cell_type": "code",
   "execution_count": 18,
   "metadata": {},
   "outputs": [
    {
     "name": "stdout",
     "output_type": "stream",
     "text": [
      "{'query': 'ell me about Elmsworth', 'result': \"Elmsworth is an enchanting kingdom nestled between towering mountains and an endless sea. It is renowned for its lush green landscapes, sparkling rivers, and the grandeur of its ancient castles. The heart of Elmsworth is the majestic Castle of Arion, where King Cedric, a wise and noble ruler, has reigned for over three decades. King Cedric is beloved by his people for his fairness and his deep connection with the land, often seen wandering the forests, speaking with the animals, and tending to the ancient trees that have stood for centuries.\\n\\nElmsworth is distinguished by its rich tapestry of myths and legends, which are whispered through the generations. It is a land where people live in harmony with nature and each other, ever vigilant and prepared for any challenges that may arise. The kingdom's legends of bravery and unity inspire its inhabitants and future generations.\\n\\nThe Kingdom of Elmsworth faced a significant threat from the Shadows of Varyn, creatures born of despair and malice. These ancient evils were awakening, and the seals that had once contained them were weakening. In response, King Cedric called upon his most trusted allies—brave knights, skilled archers, wise druids, and mystical beings of the forest—to form a coalition to combat this looming darkness.\\n\\nThe coalition, guided by Selene and bolstered by the courage and skills of heroes like Elara and Finnian, managed to seal away the Shadows of Varyn once more, restoring peace to the land. The victory was celebrated across Elmsworth, and the heroes were hailed as legends. King Cedric vowed to strengthen the bonds between the kingdoms to ensure they would stand together against any future threats.\\n\\nIn essence, Elmsworth is a kingdom that thrives on unity, courage, and hope, with a deep reverence for its natural beauty and a strong sense of community.\", 'source_documents': [Document(metadata={'source': 'D:/Azure_ai_search/beautiful_long_story.txt'}, page_content='Once upon a time in a land far beyond the known realms, nestled between towering mountains and an endless sea, there lay the enchanting Kingdom of Elmsworth. The kingdom was renowned for its lush green landscapes, sparkling rivers, and the grandeur of its ancient castles. Yet, what truly set Elmsworth apart was its rich tapestry of myths and legends, whispered through the generations.\\n\\nAt the heart of Elmsworth stood the majestic Castle of Arion, where King Cedric, a wise and noble ruler, had reigned for over three decades. The king was beloved by his people for his fairness and his deep connection with the land. He was often seen wandering the forests, speaking with the animals, and tending to the ancient trees that had stood for centuries.'), Document(metadata={'source': 'D:/Azure_ai_search/beautiful_long_story.txt'}, page_content=\"Selene spoke of a looming darkness that threatened to engulf not only Elmsworth but the entire world. An ancient evil, long thought to be vanquished, was stirring. The Shadows of Varyn, creatures born of despair and malice, were awakening. Once, they had been sealed away by the combined efforts of the world's greatest heroes, but the seals were weakening.\\n\\nKing Cedric listened intently, his heart heavy with the gravity of the situation. He knew that Elmsworth alone could not stand against such a formidable foe. He called upon his most trusted allies—brave knights, skilled archers, wise druids, and even the mystical beings of the forest—to form a coalition.\"), Document(metadata={'source': 'D:/Azure_ai_search/beautiful_long_story.txt'}, page_content='And so, the Kingdom of Elmsworth thrived, its people living in harmony with the land and each other, ever vigilant and prepared for whatever challenges the future might hold. The legends of their bravery were told and retold, inspiring generations to come.\\n\\nAs for Selene, she returned to Eldoria, her heart filled with gratitude and a promise of continued friendship between the lands. Elara and Finnian, forever changed by their journey, became the guardians of Elmsworth, their bond unbreakable and their legacy eternal.\\n\\nIn the end, it was not just the strength of their swords or the power of their magic that saved the world, but the unwavering belief in each other and the unyielding spirit of hope that shone brightest of all.'), Document(metadata={'source': 'D:/Azure_ai_search/beautiful_long_story.txt'}, page_content=\"In the final confrontation, as the dark clouds gathered and the earth trembled, the coalition stood united against the Shadows of Varyn. The battle was fierce, with the sky ablaze with magical energies and the ground shaking under the clash of swords. Elara and Finnian fought valiantly, their skills and courage shining brightly even in the darkest hour.\\n\\nWith Selene's guidance and the strength of their combined hearts, they managed to seal away the Shadows of Varyn once more, restoring peace to the land. The victory, hard-earned and bittersweet, was celebrated across Elmsworth, and the heroes were hailed as legends.\\n\\nKing Cedric, grateful for the bravery and sacrifice of his allies, vowed to strengthen the bonds between the kingdoms, ensuring that they would stand together against any future threats. The story of the coalition's triumph was etched into the annals of history, a timeless reminder of the power of unity, courage, and hope.\")]}\n"
     ]
    }
   ],
   "source": [
    "\n",
    "query = \"ell me about Elmsworth\"\n",
    "result = qa({\"query\": query})\n",
    "print(result)"
   ]
  }
 ],
 "metadata": {
  "kernelspec": {
   "display_name": ".venv",
   "language": "python",
   "name": "python3"
  },
  "language_info": {
   "codemirror_mode": {
    "name": "ipython",
    "version": 3
   },
   "file_extension": ".py",
   "mimetype": "text/x-python",
   "name": "python",
   "nbconvert_exporter": "python",
   "pygments_lexer": "ipython3",
   "version": "3.11.8"
  }
 },
 "nbformat": 4,
 "nbformat_minor": 2
}
